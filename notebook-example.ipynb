{
 "cells": [
  {
   "cell_type": "markdown",
   "metadata": {},
   "source": [
    "# Statsmodels"
   ]
  },
  {
   "cell_type": "markdown",
   "metadata": {},
   "source": [
    "Statsmodels is a Python module that allows users to explore data, estimate statistical models, and perform statistical tests. An extensive list of descriptive statistics, statistical tests, plotting functions, and result statistics are available for different types of data and each estimator.\n",
    "\n",
    "Library documentation: <a>http://statsmodels.sourceforge.net/</a>"
   ]
  },
  {
   "cell_type": "markdown",
   "metadata": {},
   "source": [
    "### Linear Regression Models"
   ]
  },
  {
   "cell_type": "markdown",
   "metadata": {},
   "source": [
    "#### Statistical framework\n",
    "In a statistical context, linear regression is represented as \n",
    "$$ Y = \\beta_0 + \\beta_1 x + \\epsilon $$\n",
    "and for standard statistical inference, one assumes: $$ \\epsilon \\sim N(0,\\sigma^2)$$."
   ]
  },
  {
   "cell_type": "code",
   "execution_count": 7,
   "metadata": {
    "collapsed": false
   },
   "outputs": [],
   "source": [
    "# needed to display the graphs\n",
    "%matplotlib inline\n",
    "from pylab import *"
   ]
  },
  {
   "cell_type": "code",
   "execution_count": 14,
   "metadata": {
    "collapsed": false
   },
   "outputs": [],
   "source": [
    "import numpy as np\n",
    "import pandas as pd\n",
    "import statsmodels.api as sm\n",
    "from statsmodels.sandbox.regression.predstd import wls_prediction_std\n",
    "np.random.seed(987654)"
   ]
  },
  {
   "cell_type": "code",
   "execution_count": 15,
   "metadata": {
    "collapsed": false
   },
   "outputs": [],
   "source": [
    "# create some artificial data\n",
    "nsample = 100\n",
    "x = np.linspace(0, 10, 100)\n",
    "X = np.column_stack((x, x**2))\n",
    "beta = np.array([1, 0.1, 10])\n",
    "e = np.random.normal(size=nsample)"
   ]
  },
  {
   "cell_type": "code",
   "execution_count": 16,
   "metadata": {
    "collapsed": false
   },
   "outputs": [],
   "source": [
    "# add column of 1s for intercept\n",
    "X = sm.add_constant(X)\n",
    "y = np.dot(X, beta) + e"
   ]
  },
  {
   "cell_type": "code",
   "execution_count": 17,
   "metadata": {
    "collapsed": false
   },
   "outputs": [
    {
     "name": "stdout",
     "output_type": "stream",
     "text": [
      "                            OLS Regression Results                            \n",
      "==============================================================================\n",
      "Dep. Variable:                      y   R-squared:                       1.000\n",
      "Model:                            OLS   Adj. R-squared:                  1.000\n",
      "Method:                 Least Squares   F-statistic:                 4.828e+06\n",
      "Date:                Wed, 01 Mar 2017   Prob (F-statistic):          3.92e-243\n",
      "Time:                        15:14:40   Log-Likelihood:                -137.38\n",
      "No. Observations:                 100   AIC:                             280.8\n",
      "Df Residuals:                      97   BIC:                             288.6\n",
      "Df Model:                           2                                         \n",
      "Covariance Type:            nonrobust                                         \n",
      "==============================================================================\n",
      "                 coef    std err          t      P>|t|      [95.0% Conf. Int.]\n",
      "------------------------------------------------------------------------------\n",
      "const          1.1945      0.285      4.185      0.000         0.628     1.761\n",
      "x1             0.0047      0.132      0.035      0.972        -0.257     0.266\n",
      "x2            10.0085      0.013    784.061      0.000         9.983    10.034\n",
      "==============================================================================\n",
      "Omnibus:                        5.324   Durbin-Watson:                   1.778\n",
      "Prob(Omnibus):                  0.070   Jarque-Bera (JB):                5.254\n",
      "Skew:                          -0.352   Prob(JB):                       0.0723\n",
      "Kurtosis:                       3.874   Cond. No.                         144.\n",
      "==============================================================================\n",
      "\n",
      "Warnings:\n",
      "[1] Standard Errors assume that the covariance matrix of the errors is correctly specified.\n"
     ]
    }
   ],
   "source": [
    "# fit model and print the summary\n",
    "model = sm.OLS(y, X)\n",
    "results = model.fit()\n",
    "print(results.summary())"
   ]
  },
  {
   "cell_type": "code",
   "execution_count": 18,
   "metadata": {
    "collapsed": false
   },
   "outputs": [
    {
     "name": "stdout",
     "output_type": "stream",
     "text": [
      "Parameters:  [  1.19445841e+00   4.65553959e-03   1.00084513e+01]\n",
      "R2:  0.999989955552\n"
     ]
    }
   ],
   "source": [
    "# individual results parameters can be accessed\n",
    "print('Parameters: ', results.params)\n",
    "print('R2: ', results.rsquared)"
   ]
  },
  {
   "cell_type": "code",
   "execution_count": 19,
   "metadata": {
    "collapsed": false
   },
   "outputs": [
    {
     "name": "stdout",
     "output_type": "stream",
     "text": [
      "                            OLS Regression Results                            \n",
      "==============================================================================\n",
      "Dep. Variable:                      y   R-squared:                       0.966\n",
      "Model:                            OLS   Adj. R-squared:                  0.963\n",
      "Method:                 Least Squares   F-statistic:                     429.4\n",
      "Date:                Wed, 01 Mar 2017   Prob (F-statistic):           1.25e-33\n",
      "Time:                        15:14:57   Log-Likelihood:                -19.414\n",
      "No. Observations:                  50   AIC:                             46.83\n",
      "Df Residuals:                      46   BIC:                             54.48\n",
      "Df Model:                           3                                         \n",
      "Covariance Type:            nonrobust                                         \n",
      "==============================================================================\n",
      "                 coef    std err          t      P>|t|      [95.0% Conf. Int.]\n",
      "------------------------------------------------------------------------------\n",
      "x1             0.5131      0.020     26.241      0.000         0.474     0.552\n",
      "x2             0.5322      0.077      6.924      0.000         0.378     0.687\n",
      "x3            -0.0206      0.002    -12.009      0.000        -0.024    -0.017\n",
      "const          4.8675      0.127     38.394      0.000         4.612     5.123\n",
      "==============================================================================\n",
      "Omnibus:                        1.765   Durbin-Watson:                   2.150\n",
      "Prob(Omnibus):                  0.414   Jarque-Bera (JB):                1.467\n",
      "Skew:                          -0.417   Prob(JB):                        0.480\n",
      "Kurtosis:                       2.900   Cond. No.                         221.\n",
      "==============================================================================\n",
      "\n",
      "Warnings:\n",
      "[1] Standard Errors assume that the covariance matrix of the errors is correctly specified.\n"
     ]
    }
   ],
   "source": [
    "# example with non-linear relationship\n",
    "nsample = 50\n",
    "sig = 0.5\n",
    "x = np.linspace(0, 20, nsample)\n",
    "X = np.column_stack((x, np.sin(x), (x-5)**2, np.ones(nsample)))\n",
    "beta = [0.5, 0.5, -0.02, 5.]\n",
    "\n",
    "y_true = np.dot(X, beta)\n",
    "y = y_true + sig * np.random.normal(size=nsample)\n",
    "\n",
    "res = sm.OLS(y, X).fit()\n",
    "print(res.summary())"
   ]
  },
  {
   "cell_type": "code",
   "execution_count": 20,
   "metadata": {
    "collapsed": false
   },
   "outputs": [
    {
     "name": "stdout",
     "output_type": "stream",
     "text": [
      "Parameters:  [ 0.5130795   0.53222159 -0.02061645  4.86754262]\n",
      "Standard errors:  [ 0.0195525   0.07686318  0.00171672  0.12677915]\n",
      "Predicted values:  [  4.35213135   4.85351729   5.3133259    5.70255158   6.00265668\n",
      "   6.20861724   6.32974833   6.38817371   6.41519085   6.44612896\n",
      "   6.51454438   6.64670748   6.85728644   7.14693733   7.50219632\n",
      "   7.89769176   8.30031266   8.67464871   8.98880816   9.21965745\n",
      "   9.35662208   9.4034239    9.37746968   9.30699116   9.22640672\n",
      "   9.17066651   9.16951021   9.24258095   9.39619793   9.62231826\n",
      "   9.89985832  10.19815779  10.48201701  10.71748024  10.87741443\n",
      "  10.94596714  10.92117107  10.81526721  10.65269376  10.46607097\n",
      "  10.29084169  10.15944829  10.09600238  10.11232342  10.20599677\n",
      "  10.3607704   10.5492251   10.73727935  10.88978879  10.9763204 ]\n"
     ]
    }
   ],
   "source": [
    "# look at some quantities of interest\n",
    "print('Parameters: ', res.params)\n",
    "print('Standard errors: ', res.bse)\n",
    "print('Predicted values: ', res.predict())"
   ]
  },
  {
   "cell_type": "code",
   "execution_count": 21,
   "metadata": {
    "collapsed": false
   },
   "outputs": [
    {
     "data": {
      "text/plain": [
       "<matplotlib.legend.Legend at 0x7faab3e59c50>"
      ]
     },
     "execution_count": 21,
     "metadata": {},
     "output_type": "execute_result"
    },
    {
     "data": {
      "image/png": "[encoded data removed]",
      "text/plain": [
       "<matplotlib.figure.Figure at 0x7faab3e1be10>"
      ]
     },
     "metadata": {},
     "output_type": "display_data"
    }
   ],
   "source": [
    "# plot the true relationship vs. the prediction\n",
    "prstd, iv_l, iv_u = wls_prediction_std(res)\n",
    "\n",
    "fig, ax = plt.subplots(figsize=(8,6))\n",
    "\n",
    "ax.plot(x, y, 'o', label=\"data\")\n",
    "ax.plot(x, y_true, 'b-', label=\"True\")\n",
    "ax.plot(x, res.fittedvalues, 'r--.', label=\"OLS fit\")\n",
    "ax.plot(x, iv_u, 'r--')\n",
    "ax.plot(x, iv_l, 'r--')\n",
    "ax.legend(loc='best')"
   ]
  }
 ],
 "metadata": {
  "anaconda-cloud": {},
  "kernelspec": {
   "display_name": "Python [conda root]",
   "language": "python",
   "name": "conda-root-py"
  },
  "language_info": {
   "codemirror_mode": {
    "name": "ipython",
    "version": 3
   },
   "file_extension": ".py",
   "mimetype": "text/x-python",
   "name": "python",
   "nbconvert_exporter": "python",
   "pygments_lexer": "ipython3",
   "version": "3.5.2"
  }
 },
 "nbformat": 4,
 "nbformat_minor": 0
}
