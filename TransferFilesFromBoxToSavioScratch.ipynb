{
 "cells": [
  {
   "cell_type": "markdown",
   "metadata": {},
   "source": [
    "+++++++++++++++++++++++++++\n",
    "\n",
    "This software is available under the terms of the Educational Community License, Version 2.0 (ECL 2.0). This software is Copyright 2016 The Regents of the University of California, Berkeley (\"Berkeley\").\n",
    "\n",
    "The text of the ECL license is reproduced below.\n",
    "\n",
    "Educational Community License, Version 2.0\n",
    "\n",
    "*************************************\n",
    "Copyright 2016 The Regents of the University of California, Berkeley (\"Berkeley\")\n",
    "\n",
    "Educational Community License, Version 2.0, April 2007\n",
    "\n",
    "The Educational Community License version 2.0 (\"ECL\") consists of the\n",
    "Apache 2.0 license, modified to change the scope of the patent grant in\n",
    "section 3 to be specific to the needs of the education communities using\n",
    "this license. The original Apache 2.0 license can be found at:[http://www.apache.org/licenses/LICENSE-2.0]\n",
    "\n",
    "+++++++++++++++++++++++++++"
   ]
  },
  {
   "cell_type": "markdown",
   "metadata": {},
   "source": [
    "### This notebook is an exemplar which demonstrates transferring files from a Box folder to a users home directory on Savio. \n",
    "\n",
    "( tested with boxsdk (2.0.0a2) on python 3.5 kernel)\n",
    "pip install -Iv boxsdk==2.0.0a2 "
   ]
  },
  {
   "cell_type": "markdown",
   "metadata": {},
   "source": [
    "function to store the oauth2 refresh token in a local file. This can be modified to use a keychain or other as required."
   ]
  },
  {
   "cell_type": "code",
   "execution_count": null,
   "metadata": {
    "collapsed": true
   },
   "outputs": [],
   "source": [
    "def store_tokens(access_token, refresh_token):\n",
    "    \n",
    "    \"\"\"Callback for storing refresh tokens. (For now we ignore access tokens).\"\"\"\n",
    "    with open('apptoken.cfg', 'w') as f:\n",
    "     f.write(refresh_token.strip())"
   ]
  },
  {
   "cell_type": "markdown",
   "metadata": {},
   "source": [
    "Oauth2 information is read from a local file with three lines, one line per parameter. \n",
    "The client id and client secret are defined in the Box application created for this notebook.  Create the application at the Box Developers site: https://berkeley.app.box.com/developers/services/edit/\n",
    "\n",
    "The redirect uri can be any site that requires validation. Run the bootstrap notebook to create initial \n",
    "tokens that are then continually refreshed."
   ]
  },
  {
   "cell_type": "code",
   "execution_count": null,
   "metadata": {
    "collapsed": false
   },
   "outputs": [],
   "source": [
    "import os\n",
    "\n",
    "CLIENT_ID = None\n",
    "CLIENT_SECRET = None\n",
    "REDIRECT_URI = None\n",
    "os.chdir('/global/home/users/mmanning')\n",
    "# Read app info from text file\n",
    "with open('app.cfg', 'r') as app_cfg:\n",
    "    CLIENT_ID = app_cfg.readline()\n",
    "    CLIENT_SECRET = app_cfg.readline()\n",
    "    REDIRECT_URI = app_cfg.readline()\n"
   ]
  },
  {
   "cell_type": "markdown",
   "metadata": {},
   "source": [
    "The refresh token is read from a local file.\n",
    "This token was created by running the bootstrap notebook which requires the user to validate\n",
    "with CalNet Authentication Service credentials, then stores the returned auth and refresh tokens \n",
    "in the same config files."
   ]
  },
  {
   "cell_type": "code",
   "execution_count": null,
   "metadata": {
    "collapsed": true
   },
   "outputs": [],
   "source": [
    "REFRESH_TOKEN = None\n",
    "\n",
    "# Read app info from text file\n",
    "with open('apptoken.cfg', 'r') as apptoken_cfg:\n",
    "    REFRESH_TOKEN = apptoken_cfg.readline()"
   ]
  },
  {
   "cell_type": "markdown",
   "metadata": {},
   "source": [
    "Perform autentication then create globus client\n",
    "Verify client is working by retrieving the name of the users root folder in Box"
   ]
  },
  {
   "cell_type": "code",
   "execution_count": null,
   "metadata": {
    "collapsed": false
   },
   "outputs": [],
   "source": [
    "from boxsdk import OAuth2\n",
    "from boxsdk import Client\n",
    "\n",
    "# Do OAuth2 authorization.\n",
    "oauth = OAuth2(\n",
    "    client_id=CLIENT_ID.strip(),\n",
    "    client_secret=CLIENT_SECRET.strip(),\n",
    "    refresh_token=REFRESH_TOKEN.strip(),\n",
    "    store_tokens=store_tokens\n",
    ")\n",
    "\n",
    "client = Client(oauth)\n",
    "\n",
    "root_folder = client.folder(folder_id='0').get()\n",
    "print (\"folder name: \", root_folder['name'] )\n",
    "\n",
    "items = client.folder(folder_id='0').get_items(limit=100, offset=0)\n",
    "#print (\"items: \", items )\n",
    "\n"
   ]
  },
  {
   "cell_type": "markdown",
   "metadata": {
    "collapsed": true
   },
   "source": [
    "get the items from the base folder. currently the Box SDK does not have an option for finding a folder by name so if you are looking for a specific folder then you would need to loop thru all the items in the list below and do a name match. Once you find the folder and retrieve the id, you can save that id for subsequent runs. I have not found a way to get the id of the folder from the Box web client."
   ]
  },
  {
   "cell_type": "code",
   "execution_count": null,
   "metadata": {
    "collapsed": false
   },
   "outputs": [],
   "source": [
    "import os\n",
    "import shutil \n",
    "\n",
    "print ('current working directory: ', os.getcwd())\n",
    "os.chdir('/global/scratch/user_name_here/test')\n",
    "\n",
    "# test folder contents\n",
    "items = client.folder(folder_id='0').get_items(limit=20, offset=0)\n",
    "if type(items) is list:\n",
    "    print ('number of files in top folder: ', len(items) )\n",
    "    \n",
    "    for item in items:\n",
    "        if item['type'] == 'folder':\n",
    "            print('folder name: ', item['name'])\n",
    "        # download all image files\n",
    "        if  not item['type'] == 'folder' and item['name'].endswith('.jpg'):\n",
    "            imagecontent = client.file(file_id=item['id']).content()\n",
    "            newfile = open('/global/scratch/user_name_here/' + item['name'], 'wb')\n",
    "            newfile.write(imagecontent)\n",
    "            newfile.close()"
   ]
  },
  {
   "cell_type": "markdown",
   "metadata": {},
   "source": [
    "Create a new folder in the base directory and upload image files in the current folder."
   ]
  },
  {
   "cell_type": "code",
   "execution_count": null,
   "metadata": {
    "collapsed": false
   },
   "outputs": [],
   "source": [
    "newFolder = client.folder(folder_id='0').create_subfolder('ThisIsATest')\n",
    "newFolderId = newFolder['id']\n",
    "sourceFolder = '/global/scratch/user_name_here/'\n",
    "\n",
    "print (\"new folder id: \", newFolderId )\n",
    "\n",
    "upload_folder = client.folder(folder_id=newFolderId).get()\n",
    "\n",
    "# upload all the files in the current folder  if os.path.isfile(f)\n",
    "files = [f for f in os.listdir(sourceFolder) ] \n",
    "print (\"files: \", files )\n",
    "\n",
    "for filename in files:\n",
    "    print (\"file name: \", filename ) \n",
    "    \n",
    "    if filename.endswith('.jpg'):\n",
    "        upload_folder.upload(sourceFolder + filename)  \n"
   ]
  }
 ],
 "metadata": {
  "kernelspec": {
   "display_name": "py35",
   "language": "python",
   "name": "py35"
  },
  "language_info": {
   "codemirror_mode": {
    "name": "ipython",
    "version": 3
   },
   "file_extension": ".py",
   "mimetype": "text/x-python",
   "name": "python",
   "nbconvert_exporter": "python",
   "pygments_lexer": "ipython3",
   "version": "3.5.2"
  }
 },
 "nbformat": 4,
 "nbformat_minor": 0
}
