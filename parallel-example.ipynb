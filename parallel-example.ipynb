{
 "cells": [
  {
   "cell_type": "code",
   "execution_count": null,
   "metadata": {
    "collapsed": true
   },
   "outputs": [],
   "source": [
    "import ipyparallel as ipp     # Python 3\n",
    "rc = ipp.Client(profile='default', cluster_id='')\n",
    "rc.ids"
   ]
  },
  {
   "cell_type": "code",
   "execution_count": null,
   "metadata": {
    "collapsed": true
   },
   "outputs": [],
   "source": [
    "dview = rc[:]\n",
    "dview.block = True\n",
    "dview.apply(lambda : \"Hello, World\")"
   ]
  },
  {
   "cell_type": "code",
   "execution_count": null,
   "metadata": {
    "collapsed": true
   },
   "outputs": [],
   "source": [
    "lview = rc.load_balanced_view()\n",
    "lview.block = True"
   ]
  },
  {
   "cell_type": "code",
   "execution_count": null,
   "metadata": {
    "collapsed": true
   },
   "outputs": [],
   "source": [
    "import pandas \n",
    "dat = pandas.read_csv('/global/scratch/paciorek/bayArea.csv', header = None, encoding = 'latin1')\n",
    "dat.columns = ('Year','Month','DayofMonth','DayOfWeek','DepTime','CRSDepTime',\n",
    "'ArrTime','CRSArrTime','UniqueCarrier','FlightNum','TailNum',\n",
    "'ActualElapsedTime','CRSElapsedTime','AirTime','ArrDelay','DepDelay',\n",
    "'Origin','Dest','Distance','TaxiIn','TaxiOut','Cancelled','CancellationCode',\n",
    "'Diverted','CarrierDelay','WeatherDelay','NASDelay','SecurityDelay','LateAircraftDelay')"
   ]
  },
  {
   "cell_type": "code",
   "execution_count": null,
   "metadata": {
    "collapsed": true
   },
   "outputs": [],
   "source": [
    "dview.execute('import statsmodels.api as sm')\n",
    "\n",
    "dat2 = dat.loc[:, ('DepDelay','Year','Dest','Origin')]\n",
    "dests = dat2.Dest.unique()\n",
    "\n",
    "mydict = dict(dat2 = dat2, dests = dests)\n",
    "dview.push(mydict)\n",
    "\n",
    "def f(id):\n",
    "    sub = dat2.loc[dat2.Dest == dests[id],:]\n",
    "    sub = sm.add_constant(sub)\n",
    "    model = sm.OLS(sub.DepDelay, sub.loc[:,('const','Year')])\n",
    "    results = model.fit()\n",
    "    return results.params"
   ]
  },
  {
   "cell_type": "code",
   "execution_count": null,
   "metadata": {
    "collapsed": true
   },
   "outputs": [],
   "source": [
    "import time\n",
    "time.time()\n",
    "parallel_result = lview.map(f, range(len(dests)))\n",
    "#result = map(f, range(len(dests)))\n",
    "time.time()"
   ]
  }
 ],
 "metadata": {
  "kernelspec": {
   "display_name": "Python 3",
   "language": "python",
   "name": "python3"
  },
  "language_info": {
   "codemirror_mode": {
    "name": "ipython",
    "version": 3
   },
   "file_extension": ".py",
   "mimetype": "text/x-python",
   "name": "python",
   "nbconvert_exporter": "python",
   "pygments_lexer": "ipython3",
   "version": "3.5.1"
  }
 },
 "nbformat": 4,
 "nbformat_minor": 1
}
